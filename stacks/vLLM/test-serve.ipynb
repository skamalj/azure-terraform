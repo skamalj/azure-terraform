{
 "cells": [
  {
   "cell_type": "code",
   "execution_count": null,
   "id": "51eadeee",
   "metadata": {},
   "outputs": [],
   "source": [
    "import ray"
   ]
  },
  {
   "cell_type": "code",
   "execution_count": null,
   "id": "9525dcb9",
   "metadata": {},
   "outputs": [],
   "source": [
    "ray.init(\"ray://localhost:10001\")"
   ]
  },
  {
   "cell_type": "code",
   "execution_count": null,
   "id": "fd096eee",
   "metadata": {},
   "outputs": [],
   "source": [
    "from ray import serve\n",
    "from ray.serve.llm import LLMConfig, build_openai_app, LLMServer, LLMRouter"
   ]
  },
  {
   "cell_type": "code",
   "execution_count": null,
   "id": "b0f9780a",
   "metadata": {},
   "outputs": [],
   "source": [
    "lm_config = LLMConfig(\n",
    "    model_loading_config=dict(\n",
    "        model_id=\"qwen-0.5b\",\n",
    "        model_source=\"Qwen/Qwen2.5-0.5B-Instruct\",\n",
    "    ),\n",
    "    deployment_config=dict(\n",
    "        autoscaling_config=dict(\n",
    "            min_replicas=1, max_replicas=2,\n",
    "        )\n",
    "    ),\n",
    "    # Pass the desired accelerator type (e.g. A10G, L4, etc.)\n",
    "    accelerator_type=\"A10G\",\n",
    "    # You can customize the engine arguments (e.g. vLLM engine kwargs)\n",
    "    engine_kwargs=dict(\n",
    "        tensor_parallel_size=2,\n",
    "    ),\n",
    ")"
   ]
  },
  {
   "cell_type": "code",
   "execution_count": null,
   "id": "8377fa43",
   "metadata": {},
   "outputs": [],
   "source": [
    "deployment = LLMServer.as_deployment(llm_config.get_serve_options(name_prefix=\"vLLM:\")).bind(llm_config)\n",
    "llm_app = LLMRouter.as_deployment().bind([deployment])\n",
    "serve.run(llm_app, blocking=True)"
   ]
  },
  {
   "cell_type": "code",
   "execution_count": null,
   "id": "b8056acf",
   "metadata": {},
   "outputs": [],
   "source": [
    "from ray import serve\n",
    "\n",
    "serve_status = serve.status()\n",
    "print(serve_status)"
   ]
  }
 ],
 "metadata": {
  "kernelspec": {
   "display_name": "ray",
   "language": "python",
   "name": "python3"
  },
  "language_info": {
   "codemirror_mode": {
    "name": "ipython",
    "version": 3
   },
   "file_extension": ".py",
   "mimetype": "text/x-python",
   "name": "python",
   "nbconvert_exporter": "python",
   "pygments_lexer": "ipython3",
   "version": "3.12.11"
  }
 },
 "nbformat": 4,
 "nbformat_minor": 5
}
